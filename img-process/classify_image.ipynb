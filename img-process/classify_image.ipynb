{
  "nbformat": 4,
  "nbformat_minor": 0,
  "metadata": {
    "colab": {
      "name": "classify-image.ipynb",
      "provenance": [],
      "collapsed_sections": []
    },
    "kernelspec": {
      "name": "python3",
      "display_name": "Python 3"
    }
  },
  "cells": [
    {
      "cell_type": "code",
      "metadata": {
        "id": "aVPc2g72EG-t",
        "colab_type": "code",
        "colab": {
          "base_uri": "https://localhost:8080/",
          "height": 122
        },
        "outputId": "8c8a9674-fd5b-4a10-a313-f389384a2975"
      },
      "source": [
        "from google.colab import drive\n",
        "drive.mount('/content/drive')"
      ],
      "execution_count": 1,
      "outputs": [
        {
          "output_type": "stream",
          "text": [
            "Go to this URL in a browser: https://accounts.google.com/o/oauth2/auth?client_id=947318989803-6bn6qk8qdgf4n4g3pfee6491hc0brc4i.apps.googleusercontent.com&redirect_uri=urn%3aietf%3awg%3aoauth%3a2.0%3aoob&response_type=code&scope=email%20https%3a%2f%2fwww.googleapis.com%2fauth%2fdocs.test%20https%3a%2f%2fwww.googleapis.com%2fauth%2fdrive%20https%3a%2f%2fwww.googleapis.com%2fauth%2fdrive.photos.readonly%20https%3a%2f%2fwww.googleapis.com%2fauth%2fpeopleapi.readonly\n",
            "\n",
            "Enter your authorization code:\n",
            "··········\n",
            "Mounted at /content/drive\n"
          ],
          "name": "stdout"
        }
      ]
    },
    {
      "cell_type": "code",
      "metadata": {
        "id": "W4tuFOdBEMPO",
        "colab_type": "code",
        "colab": {}
      },
      "source": [
        "import os \n",
        "import cv2\n",
        "import numpy as np\n",
        "import math\n",
        "import csv\n",
        "from google.colab.patches import cv2_imshow"
      ],
      "execution_count": 2,
      "outputs": []
    },
    {
      "cell_type": "code",
      "metadata": {
        "id": "csIj-pAc2AGR",
        "colab_type": "code",
        "colab": {}
      },
      "source": [
        "def rect_detect(img, th1=30, th2=120):\n",
        "    \"\"\"\n",
        "    根据图像中轮廓个数与不同阀值比较判断图像类型 - 表格图(t),无表格图(n),虚线表格图(d)\n",
        "    :params img:\n",
        "            th1: 阀值1 用于区分虚线图和无表格图\n",
        "            th2: 阀值2 用于区分无表格图和表格图\n",
        "    :return type: -t / -n / -d\n",
        "    Modify:\n",
        "        21.06.2020 \n",
        "    \"\"\"\n",
        "    img_copy = img.copy()\n",
        "    gray = cv2.cvtColor(img, cv2.COLOR_RGB2GRAY)\n",
        "    binary = cv2.adaptiveThreshold(~gray, 255, cv2.ADAPTIVE_THRESH_MEAN_C , cv2.THRESH_BINARY, 15, -2)\n",
        "    kernel = cv2.getStructuringElement(cv2.MORPH_RECT, (40, 1)) #横线\n",
        "    eroded = cv2.erode(binary, kernel, iterations = 1)                   \n",
        "    dilatedcol = cv2.dilate(eroded, kernel, iterations = 1)\n",
        "    kernel = cv2.getStructuringElement(cv2.MORPH_RECT, (1, 70)) #竖线\n",
        "    eroded = cv2.erode(binary, kernel, iterations = 1)\n",
        "    dilatedrow = cv2.dilate(eroded, kernel, iterations = 1)\n",
        "    merge = cv2.add(dilatedcol, dilatedrow)  \n",
        "    # cv2_imshow(merge)\n",
        "    contours, hierarchy = cv2.findContours(merge, cv2.RETR_LIST, cv2.CHAIN_APPROX_SIMPLE)\n",
        "\n",
        "    if len(contours) < th1:\n",
        "        return '-d'\n",
        "    elif th1 <= len(contours) and len(contours) < th2:\n",
        "        return '-n'\n",
        "    else:\n",
        "        return '-t'"
      ],
      "execution_count": 209,
      "outputs": []
    },
    {
      "cell_type": "code",
      "metadata": {
        "id": "sMaUzQ7_4pAS",
        "colab_type": "code",
        "colab": {}
      },
      "source": [
        "file_dir = '/content/drive/My Drive/MSc Project/data/rotated_image'\n",
        "file_names = []\n",
        "for root, dirs, files in os.walk(file_dir):\n",
        "    file_names = files\n",
        "\n",
        "for i, file_name in enumerate(file_names):\n",
        "    image = cv2.imread('/content/drive/My Drive/MSc Project/data/rotated_image/{}'.format(file_names[i]))\n",
        "    typeImg = rect_detect(image)\n",
        "    file_name = file_name.split('.')[0] + typeImg + '.' + file_name.split('.')[1]\n",
        "  \n",
        "    #保存图片\n",
        "    folder = os.path.exists('/content/drive/My Drive/MSc Project/data/classification_image')\n",
        "    if not folder:\n",
        "        os.makedirs('/content/drive/My Drive/MSc Project/data/classification_image')\n",
        "    cv2.imwrite('/content/drive/My Drive/MSc Project/data/classification_image/{}'.format(file_name), image)"
      ],
      "execution_count": 211,
      "outputs": []
    }
  ]
}