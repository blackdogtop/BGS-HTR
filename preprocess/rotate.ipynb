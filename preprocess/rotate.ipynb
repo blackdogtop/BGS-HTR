{
  "nbformat": 4,
  "nbformat_minor": 0,
  "metadata": {
    "colab": {
      "name": "rotate.ipynb",
      "provenance": [],
      "collapsed_sections": []
    },
    "kernelspec": {
      "name": "python3",
      "display_name": "Python 3"
    }
  },
  "cells": [
    {
      "cell_type": "code",
      "metadata": {
        "id": "1PERwdjrIXnA",
        "colab_type": "code",
        "colab": {
          "base_uri": "https://localhost:8080/",
          "height": 122
        },
        "outputId": "3b5c69ed-24c7-43cd-8763-c33fc3192367"
      },
      "source": [
        "from google.colab import drive\n",
        "drive.mount('/content/drive')"
      ],
      "execution_count": 1,
      "outputs": [
        {
          "output_type": "stream",
          "text": [
            "Go to this URL in a browser: https://accounts.google.com/o/oauth2/auth?client_id=947318989803-6bn6qk8qdgf4n4g3pfee6491hc0brc4i.apps.googleusercontent.com&redirect_uri=urn%3aietf%3awg%3aoauth%3a2.0%3aoob&response_type=code&scope=email%20https%3a%2f%2fwww.googleapis.com%2fauth%2fdocs.test%20https%3a%2f%2fwww.googleapis.com%2fauth%2fdrive%20https%3a%2f%2fwww.googleapis.com%2fauth%2fdrive.photos.readonly%20https%3a%2f%2fwww.googleapis.com%2fauth%2fpeopleapi.readonly\n",
            "\n",
            "Enter your authorization code:\n",
            "··········\n",
            "Mounted at /content/drive\n"
          ],
          "name": "stdout"
        }
      ]
    },
    {
      "cell_type": "code",
      "metadata": {
        "id": "Jv0bMpb-IdDF",
        "colab_type": "code",
        "colab": {}
      },
      "source": [
        "import numpy as np\n",
        "import cv2\n",
        "import math\n",
        "from scipy import misc, ndimage\n",
        "import os\n",
        "from google.colab.patches import cv2_imshow"
      ],
      "execution_count": 0,
      "outputs": []
    },
    {
      "cell_type": "code",
      "metadata": {
        "id": "LYVxWm9jIj0P",
        "colab_type": "code",
        "colab": {}
      },
      "source": [
        "file_dir = '/content/drive/My Drive/MSc Project/BGS_dataset' \n",
        "file_names = []\n",
        "for root, dirs, files in os.walk(file_dir):\n",
        "    file_names = files"
      ],
      "execution_count": 0,
      "outputs": []
    },
    {
      "cell_type": "code",
      "metadata": {
        "id": "s1tUfMFZcbds",
        "colab_type": "code",
        "colab": {}
      },
      "source": [
        "def rotation(img):\n",
        "    \"\"\"\n",
        "    统计图中长横线的斜率来判断整体需要旋转矫正的角度\n",
        "    Rotate the image accoding to the overall slope of horizontal lines \n",
        "    :params img: 初始图片\n",
        "    :returns \n",
        "        rotatedImg: 旋转之后的图片\n",
        "    Modify:\n",
        "        15.06.2020\n",
        "    \"\"\"\n",
        "\n",
        "    image_copy = img.copy() \n",
        "\n",
        "    # 灰度\n",
        "    gray = cv2.cvtColor(img, cv2.COLOR_RGB2GRAY)\n",
        "\n",
        "    # 边缘检测\n",
        "    threshold1 = 50         #最小阈值\n",
        "    threshold2 = 150        #最大阈值\n",
        "    edges = cv2.Canny(gray, threshold1, threshold2, apertureSize=3)\n",
        "\n",
        "    # 检测直线 - 统计概率霍夫线变换函数 输出检测到的直线的端点 (x0, y0, x1, y1)\n",
        "    rho = 1                 #线段以像素为单位的距离精度,一般使用 1\n",
        "    theta = np.pi / 180     #线段以弧度为单位的角度精度,推荐用numpy.pi/180,一般使用 numpy.pi/180 \n",
        "    threshold = 100         #累加平面的阈值参数,超过设定阈值才被检测出线段,值越大,检出的线段越长,检出的线段个数越少   (总像素长度)\n",
        "    mLL = 200               #线段以像素为单位的最小长度,组成一条直线的最少点的数量,点数量不足的直线将被抛弃          (局部像素长度)\n",
        "    mLG = 10                #同一方向上两条线段判定为一条线段的最大允许间隔(断裂),没超设定值则两条线段仍是两条线段    (单词间的gap,不要设定太大否则单词很容易被识别成直线)\n",
        "    lines = cv2.HoughLinesP(edges, rho, theta, threshold, minLineLength=mLL, maxLineGap=mLG)\n",
        "    if lines is None:       #图像无直线,无法识别\n",
        "        return img\n",
        "    # for x1, y1, x2, y2 in lines[0]:\n",
        "    #     cv2.line(image_copy, (x1, y1), (x2, y2), (0, 255, 0), 2)\n",
        "    # cv2_imshow(image_copy)\n",
        "\n",
        "    pi = 3.1415\n",
        "    theta_total = 0\n",
        "    theta_count = 0\n",
        "    \n",
        "    for line in lines:\n",
        "        x1, y1, x2, y2 = line[0]\n",
        "        theta = math.atan(float(y2 - y1)/float(x2 - x1 + 0.001))    #角度\n",
        "        if theta < pi/4 and theta > -pi/4:                          \n",
        "            theta_total = theta_total + theta\n",
        "            theta_count+=1\n",
        "            # cv2.line(image_copy, (x1, y1), (x2, y2), (0, 0, 255), 2)#添加直线在copy上\n",
        "    if theta_count == 0:\n",
        "        theta_count = 1\n",
        "    theta_average = theta_total/theta_count                         #计算平均倾斜角度\n",
        "    # print('旋转角度:{}'.format(theta_average*180/pi))\n",
        "\n",
        "    #旋转图片\n",
        "    h, w, channels = img.shape\n",
        "    img_change = cv2.getRotationMatrix2D((0, h), theta_average*180/pi, 1)                    #变换矩阵                             \n",
        "    rotatedImg = cv2.warpAffine(img, img_change, (w, h), borderValue=(255,255,255))          #旋转图片,白色填充\n",
        "    # lineBasedImg = cv2.warpAffine(image_copy, img_change, (w, h), borderValue=(255,255,255)) #同时旋转原image和copy\n",
        "\n",
        "    return rotatedImg "
      ],
      "execution_count": 0,
      "outputs": []
    },
    {
      "cell_type": "code",
      "metadata": {
        "id": "KaPK4kdHcgET",
        "colab_type": "code",
        "colab": {}
      },
      "source": [
        "for i,file_name in enumerate(file_names):\n",
        "    image = cv2.imread('/content/drive/My Drive/MSc Project/BGS_dataset/{}'.format(file_names[i]))\n",
        "    rotatedImg = rotation(image)\n",
        "    # cv2_imshow(rotatedImg)\n",
        "\n",
        "    #保存图片\n",
        "    folder = os.path.exists('/content/drive/My Drive/MSc Project/data/rotated_image')\n",
        "    if not folder:\n",
        "        os.makedirs('/content/drive/My Drive/MSc Project/data/rotated_image')\n",
        "    cv2.imwrite('/content/drive/My Drive/MSc Project/data/rotated_image/{}'.format(file_names[i]), rotatedImg)  "
      ],
      "execution_count": 0,
      "outputs": []
    }
  ]
}